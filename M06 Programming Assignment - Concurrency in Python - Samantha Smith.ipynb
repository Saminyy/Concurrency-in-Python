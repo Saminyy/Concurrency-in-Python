{
 "cells": [
  {
   "cell_type": "code",
   "execution_count": 1,
   "id": "3f5e373e",
   "metadata": {},
   "outputs": [],
   "source": [
    "#13.1 Write the current date as a string to the text file today.txt.\n",
    "from datetime import date\n",
    "\n",
    "now = date.today()\n",
    "now_str = now.isoformat()\n",
    "with open('today.txt', 'wt') as output:\n",
    "     print(now_str, file=output)"
   ]
  },
  {
   "cell_type": "code",
   "execution_count": 2,
   "id": "33461549",
   "metadata": {},
   "outputs": [
    {
     "data": {
      "text/plain": [
       "'2023-04-30\\n'"
      ]
     },
     "execution_count": 2,
     "metadata": {},
     "output_type": "execute_result"
    }
   ],
   "source": [
    "#13.2 Read the text file today.txt into the string today_string.\n",
    "with open('today.txt', 'rt') as input:\n",
    "     today_string = input.read()\n",
    "\n",
    "today_string"
   ]
  },
  {
   "cell_type": "code",
   "execution_count": 3,
   "id": "fedfb991",
   "metadata": {},
   "outputs": [
    {
     "data": {
      "text/plain": [
       "datetime.datetime(2023, 4, 30, 0, 0)"
      ]
     },
     "execution_count": 3,
     "metadata": {},
     "output_type": "execute_result"
    }
   ],
   "source": [
    "#13.3 Parse the date from today_string.\n",
    "from datetime import datetime\n",
    "fmt = '%Y-%m-%d\\n'\n",
    "\n",
    "datetime.strptime(today_string, fmt)"
   ]
  },
  {
   "cell_type": "code",
   "execution_count": 4,
   "id": "39d36764",
   "metadata": {},
   "outputs": [],
   "source": [
    "#15.1\n",
    "#Create three separate processes, each one waiting a random number of seconds between zero and one, \n",
    "#print the current time, and then exit.\n",
    "import multiprocessing\n",
    "\n",
    "def now(seconds):\n",
    "    from datetime import datetime\n",
    "    from time import sleep\n",
    "    sleep(seconds)\n",
    "    print('wait', seconds, 'seconds, time is', datetime.utcnow())\n",
    "\n",
    "if __name__ == '__main__':\n",
    "    import random\n",
    "    for n in range(3):\n",
    "        seconds = random.random()\n",
    "        proc = multiprocessing.Process(target=now, args=(seconds,))\n",
    "        proc.start()\n",
    "        "
   ]
  },
  {
   "cell_type": "markdown",
   "id": "8b01e9fd",
   "metadata": {},
   "source": [
    "[Running] python -u \"C:\\Users\\saman\\AppData\\Local\\Temp\\tempCodeRunnerFile.python\"\n",
    "wait 0.01179677318923178 seconds, time is 2023-04-30 23:35:55.702354\n",
    "wait 0.5846836716776729 seconds, time is 2023-04-30 23:35:56.270644\n",
    "wait 0.6804947847186733 seconds, time is 2023-04-30 23:35:56.360124"
   ]
  }
 ],
 "metadata": {
  "kernelspec": {
   "display_name": "Python 3 (ipykernel)",
   "language": "python",
   "name": "python3"
  },
  "language_info": {
   "codemirror_mode": {
    "name": "ipython",
    "version": 3
   },
   "file_extension": ".py",
   "mimetype": "text/x-python",
   "name": "python",
   "nbconvert_exporter": "python",
   "pygments_lexer": "ipython3",
   "version": "3.10.9"
  }
 },
 "nbformat": 4,
 "nbformat_minor": 5
}
